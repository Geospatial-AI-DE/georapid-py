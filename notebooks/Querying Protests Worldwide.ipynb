{
 "cells": [
  {
   "cell_type": "markdown",
   "id": "f83960a8",
   "metadata": {},
   "source": [
    "# Querying Protests Worldwide\n",
    "Requirements:\n",
    "* ArcGIS API for Python\n",
    "`conda install -c esri arcgis`\n",
    "* arcpy or at least shapely for spatial joins\n"
   ]
  },
  {
   "cell_type": "code",
   "execution_count": 1,
   "id": "103a5002",
   "metadata": {},
   "outputs": [],
   "source": [
    "# author: Jan Tschada\n",
    "# SPDX-License-Identifer: Apache-2.0"
   ]
  },
  {
   "cell_type": "code",
   "execution_count": 5,
   "id": "72b5e350",
   "metadata": {},
   "outputs": [],
   "source": [
    "from arcgis.gis import GIS\n",
    "from arcgis.features import FeatureSet\n",
    "from arcgis.geometry.filters import intersects\n",
    "from arcgis.mapping import generate_classbreaks\n",
    "from datetime import datetime\n",
    "from georapid.client import GeoRapidClient\n",
    "from georapid.factory import EnvironmentClientFactory\n",
    "from georapid.formats import OutFormat\n",
    "from georapid.protests import aggregate\n",
    "import pandas as pd"
   ]
  },
  {
   "cell_type": "markdown",
   "id": "86339681",
   "metadata": {},
   "source": [
    "## Creating a client\n",
    "---\n",
    "**NOTE**\n",
    "\n",
    "Ensure that `os.environ['x_rapidapi_key']` holds your Rapid API Key!\n",
    "\n",
    "---"
   ]
  },
  {
   "cell_type": "code",
   "execution_count": 6,
   "id": "62dbf7b5",
   "metadata": {},
   "outputs": [],
   "source": [
    "host = 'geoprotests.p.rapidapi.com'\n",
    "client: GeoRapidClient = EnvironmentClientFactory.create_client_with_host(host)"
   ]
  },
  {
   "cell_type": "markdown",
   "id": "6c671c44",
   "metadata": {},
   "source": [
    "## Connecting to ArcGIS Online"
   ]
  },
  {
   "cell_type": "code",
   "execution_count": 7,
   "id": "c45d0484",
   "metadata": {},
   "outputs": [],
   "source": [
    "gis = GIS()"
   ]
  },
  {
   "cell_type": "code",
   "execution_count": 8,
   "id": "80b1dfb3",
   "metadata": {},
   "outputs": [],
   "source": [
    "def generate_aggregated_renderer(spatial_df, column='count'):\n",
    "    alpha = 0.35\n",
    "    class_breaks_renderer = generate_classbreaks(spatial_df, geometry_type='Polygon', field=column, method='esriClassifyNaturalBreaks', class_count=5, colors='YlOrRd', alpha=0.35)\n",
    "    class_breaks_renderer['defaultSymbol']['color'][3] = int(alpha * 255)\n",
    "    for class_break_info in class_breaks_renderer['classBreakInfos']:\n",
    "        class_break_info['symbol']['color'][3] = int(alpha * 255)\n",
    "    return class_breaks_renderer\n",
    "\n",
    "def plot_aggregated(map_view, spatial_df, column='count'):\n",
    "    \"\"\"\n",
    "    Plots the spatial dataframe as classified polygons using the specified map view.\n",
    "    \"\"\"\n",
    "    if spatial_df.empty:\n",
    "        print(\"The dataframe is empty!\")\n",
    "    else:\n",
    "        class_breaks_renderer = generate_aggregated_renderer(spatial_df)\n",
    "        drawing_info = {\n",
    "            'renderer': class_breaks_renderer\n",
    "        }\n",
    "        feature_collection = spatial_df.spatial.to_feature_collection(drawing_info=drawing_info)\n",
    "        map_view.add_layer(feature_collection)\n",
    "        \n",
    "def query_aggregations(from_date, to_date):\n",
    "    \"\"\"\n",
    "    Queries the specific date range and returns a data frame.\n",
    "    \"\"\"\n",
    "    sdfs = []\n",
    "    date_range = pd.date_range(start=from_date, end=to_date)\n",
    "    for date_of_interest in date_range:\n",
    "        aggregated_protests_dict = aggregate(client, date_of_interest, OutFormat.ESRI)\n",
    "        aggregated_protests_fset = FeatureSet.from_dict(aggregated_protests_dict)\n",
    "        aggregated_protests_sdf = aggregated_protests_fset.sdf\n",
    "        if not aggregated_protests_sdf.empty:\n",
    "            sdfs.append(aggregated_protests_sdf)\n",
    "            \n",
    "    if sdfs:\n",
    "        return pd.concat(sdfs, ignore_index=True)\n",
    "    else:\n",
    "        return pd.DataFrame()\n",
    "        \n",
    "def query_world_countries(gis, two_digit_country_code):\n",
    "    \"\"\"\n",
    "    Returns the geographic feature of a country.\n",
    "    \"\"\"\n",
    "    world_countries_item_id = '2b93b06dc0dc4e809d3c8db5cb96ba69'\n",
    "    world_countries_item = gis.content.get(world_countries_item_id)\n",
    "    world_countries_layer = world_countries_item.layers[0]\n",
    "    return world_countries_layer.query(where=f\"ISO='{two_digit_country_code}'\")"
   ]
  },
  {
   "cell_type": "markdown",
   "id": "1775d444",
   "metadata": {},
   "source": [
    "## Query the protests and try to narrow down those related to the French pension reform strikes"
   ]
  },
  {
   "cell_type": "code",
   "execution_count": 9,
   "id": "a1132dd6",
   "metadata": {},
   "outputs": [
    {
     "data": {
      "application/vnd.jupyter.widget-view+json": {
       "model_id": "de84bd319aa24944afe3814d8e56657c",
       "version_major": 2,
       "version_minor": 0
      },
      "text/plain": [
       "MapView(layout=Layout(height='400px', width='100%'))"
      ]
     },
     "metadata": {},
     "output_type": "display_data"
    },
    {
     "data": {
      "text/html": [
       "<div class=\"map-static-img-preview-d1013256-f0e1-4c6f-887e-8abd1d24e392\"><img src=\"\"></img></div>"
      ],
      "text/plain": [
       "<IPython.core.display.HTML object>"
      ]
     },
     "metadata": {},
     "output_type": "display_data"
    },
    {
     "data": {
      "text/html": [
       "<div class=\"map-html-embed-preview-d1013256-f0e1-4c6f-887e-8abd1d24e392\"></div>"
      ],
      "text/plain": [
       "<IPython.core.display.HTML object>"
      ]
     },
     "metadata": {},
     "output_type": "display_data"
    }
   ],
   "source": [
    "protest_map = gis.map('France')\n",
    "protest_map.basemap = 'osm'\n",
    "protest_map"
   ]
  },
  {
   "cell_type": "code",
   "execution_count": 10,
   "id": "a5e3aa29",
   "metadata": {},
   "outputs": [
    {
     "data": {
      "text/html": [
       "<div>\n",
       "<style scoped>\n",
       "    .dataframe tbody tr th:only-of-type {\n",
       "        vertical-align: middle;\n",
       "    }\n",
       "\n",
       "    .dataframe tbody tr th {\n",
       "        vertical-align: top;\n",
       "    }\n",
       "\n",
       "    .dataframe thead th {\n",
       "        text-align: right;\n",
       "    }\n",
       "</style>\n",
       "<table border=\"1\" class=\"dataframe\">\n",
       "  <thead>\n",
       "    <tr style=\"text-align: right;\">\n",
       "      <th></th>\n",
       "      <th>OBJECTID</th>\n",
       "      <th>count</th>\n",
       "      <th>timestamp</th>\n",
       "      <th>Shape__Area</th>\n",
       "      <th>Shape__Length</th>\n",
       "      <th>SHAPE</th>\n",
       "    </tr>\n",
       "  </thead>\n",
       "  <tbody>\n",
       "    <tr>\n",
       "      <th>18</th>\n",
       "      <td>38893</td>\n",
       "      <td>1028</td>\n",
       "      <td>2023-01-19</td>\n",
       "      <td>54126587736.526367</td>\n",
       "      <td>866025.403784</td>\n",
       "      <td>{\"rings\": [[[-8779178.09360229, -1337491.6572]...</td>\n",
       "    </tr>\n",
       "    <tr>\n",
       "      <th>220</th>\n",
       "      <td>39095</td>\n",
       "      <td>793</td>\n",
       "      <td>2023-01-21</td>\n",
       "      <td>54126587736.526367</td>\n",
       "      <td>866025.403784</td>\n",
       "      <td>{\"rings\": [[[-8779178.09360229, -1337491.6572]...</td>\n",
       "    </tr>\n",
       "    <tr>\n",
       "      <th>113</th>\n",
       "      <td>38988</td>\n",
       "      <td>722</td>\n",
       "      <td>2023-01-20</td>\n",
       "      <td>54126587736.526367</td>\n",
       "      <td>866025.403784</td>\n",
       "      <td>{\"rings\": [[[-8779178.09360229, -1337491.6572]...</td>\n",
       "    </tr>\n",
       "    <tr>\n",
       "      <th>997</th>\n",
       "      <td>39872</td>\n",
       "      <td>614</td>\n",
       "      <td>2023-01-29</td>\n",
       "      <td>54126587736.527344</td>\n",
       "      <td>866025.403784</td>\n",
       "      <td>{\"rings\": [[[-8346165.39171007, 4912508.3428],...</td>\n",
       "    </tr>\n",
       "    <tr>\n",
       "      <th>315</th>\n",
       "      <td>39190</td>\n",
       "      <td>594</td>\n",
       "      <td>2023-01-22</td>\n",
       "      <td>54126587736.523438</td>\n",
       "      <td>866025.403784</td>\n",
       "      <td>{\"rings\": [[[-9428697.14644062, 4037508.3428],...</td>\n",
       "    </tr>\n",
       "    <tr>\n",
       "      <th>...</th>\n",
       "      <td>...</td>\n",
       "      <td>...</td>\n",
       "      <td>...</td>\n",
       "      <td>...</td>\n",
       "      <td>...</td>\n",
       "      <td>...</td>\n",
       "    </tr>\n",
       "    <tr>\n",
       "      <th>506</th>\n",
       "      <td>39381</td>\n",
       "      <td>1</td>\n",
       "      <td>2023-01-24</td>\n",
       "      <td>54126587736.527344</td>\n",
       "      <td>866025.403784</td>\n",
       "      <td>{\"rings\": [[[-8562671.74265618, -1712491.6572]...</td>\n",
       "    </tr>\n",
       "    <tr>\n",
       "      <th>505</th>\n",
       "      <td>39380</td>\n",
       "      <td>1</td>\n",
       "      <td>2023-01-24</td>\n",
       "      <td>54126587736.526367</td>\n",
       "      <td>866025.403784</td>\n",
       "      <td>{\"rings\": [[[-8562671.74265618, -1462491.6572]...</td>\n",
       "    </tr>\n",
       "    <tr>\n",
       "      <th>504</th>\n",
       "      <td>39379</td>\n",
       "      <td>1</td>\n",
       "      <td>2023-01-24</td>\n",
       "      <td>54126587736.529297</td>\n",
       "      <td>866025.403784</td>\n",
       "      <td>{\"rings\": [[[-8562671.74265618, -1212491.6572]...</td>\n",
       "    </tr>\n",
       "    <tr>\n",
       "      <th>502</th>\n",
       "      <td>39377</td>\n",
       "      <td>1</td>\n",
       "      <td>2023-01-24</td>\n",
       "      <td>54126587736.527588</td>\n",
       "      <td>866025.403784</td>\n",
       "      <td>{\"rings\": [[[-8562671.74265618, 287508.3427999...</td>\n",
       "    </tr>\n",
       "    <tr>\n",
       "      <th>1051</th>\n",
       "      <td>39926</td>\n",
       "      <td>1</td>\n",
       "      <td>2023-01-29</td>\n",
       "      <td>54126587736.523438</td>\n",
       "      <td>866025.403784</td>\n",
       "      <td>{\"rings\": [[[19366647.529392, -5087491.6572], ...</td>\n",
       "    </tr>\n",
       "  </tbody>\n",
       "</table>\n",
       "<p>1052 rows × 6 columns</p>\n",
       "</div>"
      ],
      "text/plain": [
       "      OBJECTID  count  timestamp         Shape__Area  Shape__Length  \\\n",
       "18       38893   1028 2023-01-19  54126587736.526367  866025.403784   \n",
       "220      39095    793 2023-01-21  54126587736.526367  866025.403784   \n",
       "113      38988    722 2023-01-20  54126587736.526367  866025.403784   \n",
       "997      39872    614 2023-01-29  54126587736.527344  866025.403784   \n",
       "315      39190    594 2023-01-22  54126587736.523438  866025.403784   \n",
       "...        ...    ...        ...                 ...            ...   \n",
       "506      39381      1 2023-01-24  54126587736.527344  866025.403784   \n",
       "505      39380      1 2023-01-24  54126587736.526367  866025.403784   \n",
       "504      39379      1 2023-01-24  54126587736.529297  866025.403784   \n",
       "502      39377      1 2023-01-24  54126587736.527588  866025.403784   \n",
       "1051     39926      1 2023-01-29  54126587736.523438  866025.403784   \n",
       "\n",
       "                                                  SHAPE  \n",
       "18    {\"rings\": [[[-8779178.09360229, -1337491.6572]...  \n",
       "220   {\"rings\": [[[-8779178.09360229, -1337491.6572]...  \n",
       "113   {\"rings\": [[[-8779178.09360229, -1337491.6572]...  \n",
       "997   {\"rings\": [[[-8346165.39171007, 4912508.3428],...  \n",
       "315   {\"rings\": [[[-9428697.14644062, 4037508.3428],...  \n",
       "...                                                 ...  \n",
       "506   {\"rings\": [[[-8562671.74265618, -1712491.6572]...  \n",
       "505   {\"rings\": [[[-8562671.74265618, -1462491.6572]...  \n",
       "504   {\"rings\": [[[-8562671.74265618, -1212491.6572]...  \n",
       "502   {\"rings\": [[[-8562671.74265618, 287508.3427999...  \n",
       "1051  {\"rings\": [[[19366647.529392, -5087491.6572], ...  \n",
       "\n",
       "[1052 rows x 6 columns]"
      ]
     },
     "execution_count": 10,
     "metadata": {},
     "output_type": "execute_result"
    }
   ],
   "source": [
    "aggregated_protests_sdf = query_aggregations(datetime(2023, 1, 19), datetime(2023, 1, 29))\n",
    "aggregated_protests_sdf.sort_values(by='count', ascending=False)"
   ]
  },
  {
   "cell_type": "code",
   "execution_count": 11,
   "id": "e4a96d6f",
   "metadata": {},
   "outputs": [
    {
     "data": {
      "application/vnd.jupyter.widget-view+json": {
       "model_id": "63c74e5fb19c40fea63b37bcebe2402e",
       "version_major": 2,
       "version_minor": 0
      },
      "text/plain": [
       "MapView(layout=Layout(height='400px', width='100%'))"
      ]
     },
     "metadata": {},
     "output_type": "display_data"
    },
    {
     "data": {
      "text/html": [
       "<div class=\"map-static-img-preview-848797fe-0e49-496c-a0f1-eb6d810439db\"><img src=\"\"></img></div>"
      ],
      "text/plain": [
       "<IPython.core.display.HTML object>"
      ]
     },
     "metadata": {},
     "output_type": "display_data"
    },
    {
     "data": {
      "text/html": [
       "<div class=\"map-html-embed-preview-848797fe-0e49-496c-a0f1-eb6d810439db\"></div>"
      ],
      "text/plain": [
       "<IPython.core.display.HTML object>"
      ]
     },
     "metadata": {},
     "output_type": "display_data"
    }
   ],
   "source": [
    "protest_map = gis.map('France')\n",
    "protest_map.basemap = 'osm'\n",
    "plot_aggregated(protest_map, aggregated_protests_sdf)\n",
    "protest_map"
   ]
  },
  {
   "cell_type": "markdown",
   "id": "ce948474",
   "metadata": {},
   "source": [
    "## Filter the news related to protests being located in France\n",
    "---\n",
    "**NOTE**\n",
    "\n",
    "If your environment has no geometry engine (`arcpy` or `shapely`) the spatial join returns an empty data frame!\n",
    "\n",
    "---"
   ]
  },
  {
   "cell_type": "code",
   "execution_count": 12,
   "id": "856518d9",
   "metadata": {},
   "outputs": [
    {
     "data": {
      "text/html": [
       "<div>\n",
       "<style scoped>\n",
       "    .dataframe tbody tr th:only-of-type {\n",
       "        vertical-align: middle;\n",
       "    }\n",
       "\n",
       "    .dataframe tbody tr th {\n",
       "        vertical-align: top;\n",
       "    }\n",
       "\n",
       "    .dataframe thead th {\n",
       "        text-align: right;\n",
       "    }\n",
       "</style>\n",
       "<table border=\"1\" class=\"dataframe\">\n",
       "  <thead>\n",
       "    <tr style=\"text-align: right;\">\n",
       "      <th></th>\n",
       "      <th>FID</th>\n",
       "      <th>COUNTRY</th>\n",
       "      <th>ISO</th>\n",
       "      <th>COUNTRYAFF</th>\n",
       "      <th>AFF_ISO</th>\n",
       "      <th>Shape__Area</th>\n",
       "      <th>Shape__Length</th>\n",
       "      <th>SHAPE</th>\n",
       "    </tr>\n",
       "  </thead>\n",
       "  <tbody>\n",
       "    <tr>\n",
       "      <th>0</th>\n",
       "      <td>79</td>\n",
       "      <td>France</td>\n",
       "      <td>FR</td>\n",
       "      <td>France</td>\n",
       "      <td>FR</td>\n",
       "      <td>1162358729551.715332</td>\n",
       "      <td>8568685.86359</td>\n",
       "      <td>{\"rings\": [[[198339.953048288, 5246743.3982777...</td>\n",
       "    </tr>\n",
       "  </tbody>\n",
       "</table>\n",
       "</div>"
      ],
      "text/plain": [
       "   FID COUNTRY ISO COUNTRYAFF AFF_ISO           Shape__Area  Shape__Length  \\\n",
       "0   79  France  FR     France      FR  1162358729551.715332  8568685.86359   \n",
       "\n",
       "                                               SHAPE  \n",
       "0  {\"rings\": [[[198339.953048288, 5246743.3982777...  "
      ]
     },
     "execution_count": 12,
     "metadata": {},
     "output_type": "execute_result"
    }
   ],
   "source": [
    "france_country_fset = query_world_countries(gis, two_digit_country_code='FR')\n",
    "france_country_sdf = france_country_fset.sdf\n",
    "france_country_sdf"
   ]
  },
  {
   "cell_type": "code",
   "execution_count": 13,
   "id": "a84e9c96",
   "metadata": {},
   "outputs": [
    {
     "data": {
      "text/html": [
       "<div>\n",
       "<style scoped>\n",
       "    .dataframe tbody tr th:only-of-type {\n",
       "        vertical-align: middle;\n",
       "    }\n",
       "\n",
       "    .dataframe tbody tr th {\n",
       "        vertical-align: top;\n",
       "    }\n",
       "\n",
       "    .dataframe thead th {\n",
       "        text-align: right;\n",
       "    }\n",
       "</style>\n",
       "<table border=\"1\" class=\"dataframe\">\n",
       "  <thead>\n",
       "    <tr style=\"text-align: right;\">\n",
       "      <th></th>\n",
       "      <th>OBJECTID</th>\n",
       "      <th>count</th>\n",
       "      <th>timestamp</th>\n",
       "      <th>Shape__Area</th>\n",
       "      <th>Shape__Length</th>\n",
       "      <th>SHAPE</th>\n",
       "      <th>COUNTRY</th>\n",
       "    </tr>\n",
       "  </thead>\n",
       "  <tbody>\n",
       "    <tr>\n",
       "      <th>0</th>\n",
       "      <td>38916</td>\n",
       "      <td>9</td>\n",
       "      <td>2023-01-19</td>\n",
       "      <td>54126587736.52771</td>\n",
       "      <td>866025.403784</td>\n",
       "      <td>{\"rings\": [[[-551936.757650122, 6162508.3428],...</td>\n",
       "      <td>France</td>\n",
       "    </tr>\n",
       "    <tr>\n",
       "      <th>1</th>\n",
       "      <td>38920</td>\n",
       "      <td>1</td>\n",
       "      <td>2023-01-19</td>\n",
       "      <td>54126587736.527435</td>\n",
       "      <td>866025.403784</td>\n",
       "      <td>{\"rings\": [[[-118924.055757903, 6412508.3428],...</td>\n",
       "      <td>France</td>\n",
       "    </tr>\n",
       "    <tr>\n",
       "      <th>2</th>\n",
       "      <td>38921</td>\n",
       "      <td>5</td>\n",
       "      <td>2023-01-19</td>\n",
       "      <td>54126587736.527527</td>\n",
       "      <td>866025.403784</td>\n",
       "      <td>{\"rings\": [[[-118924.055757903, 5912508.3428],...</td>\n",
       "      <td>France</td>\n",
       "    </tr>\n",
       "    <tr>\n",
       "      <th>3</th>\n",
       "      <td>38922</td>\n",
       "      <td>5</td>\n",
       "      <td>2023-01-19</td>\n",
       "      <td>54126587736.527405</td>\n",
       "      <td>866025.403784</td>\n",
       "      <td>{\"rings\": [[[-118924.055757903, 5662508.3428],...</td>\n",
       "      <td>France</td>\n",
       "    </tr>\n",
       "    <tr>\n",
       "      <th>4</th>\n",
       "      <td>38923</td>\n",
       "      <td>4</td>\n",
       "      <td>2023-01-19</td>\n",
       "      <td>54126587736.527344</td>\n",
       "      <td>866025.403784</td>\n",
       "      <td>{\"rings\": [[[-118924.055757903, 5412508.3428],...</td>\n",
       "      <td>France</td>\n",
       "    </tr>\n",
       "    <tr>\n",
       "      <th>...</th>\n",
       "      <td>...</td>\n",
       "      <td>...</td>\n",
       "      <td>...</td>\n",
       "      <td>...</td>\n",
       "      <td>...</td>\n",
       "      <td>...</td>\n",
       "      <td>...</td>\n",
       "    </tr>\n",
       "    <tr>\n",
       "      <th>60</th>\n",
       "      <td>39804</td>\n",
       "      <td>2</td>\n",
       "      <td>2023-01-28</td>\n",
       "      <td>54126587736.527344</td>\n",
       "      <td>866025.403784</td>\n",
       "      <td>{\"rings\": [[[-118924.055757903, 5412508.3428],...</td>\n",
       "      <td>France</td>\n",
       "    </tr>\n",
       "    <tr>\n",
       "      <th>61</th>\n",
       "      <td>39805</td>\n",
       "      <td>1</td>\n",
       "      <td>2023-01-28</td>\n",
       "      <td>54126587736.527283</td>\n",
       "      <td>866025.403784</td>\n",
       "      <td>{\"rings\": [[[97582.2951882072, 6537508.3428], ...</td>\n",
       "      <td>France</td>\n",
       "    </tr>\n",
       "    <tr>\n",
       "      <th>62</th>\n",
       "      <td>39806</td>\n",
       "      <td>6</td>\n",
       "      <td>2023-01-28</td>\n",
       "      <td>54126587736.527466</td>\n",
       "      <td>866025.403784</td>\n",
       "      <td>{\"rings\": [[[97582.2951882072, 6287508.3428], ...</td>\n",
       "      <td>France</td>\n",
       "    </tr>\n",
       "    <tr>\n",
       "      <th>63</th>\n",
       "      <td>39809</td>\n",
       "      <td>2</td>\n",
       "      <td>2023-01-28</td>\n",
       "      <td>54126587736.527344</td>\n",
       "      <td>866025.403784</td>\n",
       "      <td>{\"rings\": [[[314088.646134317, 5662508.3428], ...</td>\n",
       "      <td>France</td>\n",
       "    </tr>\n",
       "    <tr>\n",
       "      <th>64</th>\n",
       "      <td>39886</td>\n",
       "      <td>2</td>\n",
       "      <td>2023-01-29</td>\n",
       "      <td>54126587736.527344</td>\n",
       "      <td>866025.403784</td>\n",
       "      <td>{\"rings\": [[[-118924.055757903, 5412508.3428],...</td>\n",
       "      <td>France</td>\n",
       "    </tr>\n",
       "  </tbody>\n",
       "</table>\n",
       "<p>65 rows × 7 columns</p>\n",
       "</div>"
      ],
      "text/plain": [
       "    OBJECTID  count  timestamp         Shape__Area  Shape__Length  \\\n",
       "0      38916      9 2023-01-19   54126587736.52771  866025.403784   \n",
       "1      38920      1 2023-01-19  54126587736.527435  866025.403784   \n",
       "2      38921      5 2023-01-19  54126587736.527527  866025.403784   \n",
       "3      38922      5 2023-01-19  54126587736.527405  866025.403784   \n",
       "4      38923      4 2023-01-19  54126587736.527344  866025.403784   \n",
       "..       ...    ...        ...                 ...            ...   \n",
       "60     39804      2 2023-01-28  54126587736.527344  866025.403784   \n",
       "61     39805      1 2023-01-28  54126587736.527283  866025.403784   \n",
       "62     39806      6 2023-01-28  54126587736.527466  866025.403784   \n",
       "63     39809      2 2023-01-28  54126587736.527344  866025.403784   \n",
       "64     39886      2 2023-01-29  54126587736.527344  866025.403784   \n",
       "\n",
       "                                                SHAPE COUNTRY  \n",
       "0   {\"rings\": [[[-551936.757650122, 6162508.3428],...  France  \n",
       "1   {\"rings\": [[[-118924.055757903, 6412508.3428],...  France  \n",
       "2   {\"rings\": [[[-118924.055757903, 5912508.3428],...  France  \n",
       "3   {\"rings\": [[[-118924.055757903, 5662508.3428],...  France  \n",
       "4   {\"rings\": [[[-118924.055757903, 5412508.3428],...  France  \n",
       "..                                                ...     ...  \n",
       "60  {\"rings\": [[[-118924.055757903, 5412508.3428],...  France  \n",
       "61  {\"rings\": [[[97582.2951882072, 6537508.3428], ...  France  \n",
       "62  {\"rings\": [[[97582.2951882072, 6287508.3428], ...  France  \n",
       "63  {\"rings\": [[[314088.646134317, 5662508.3428], ...  France  \n",
       "64  {\"rings\": [[[-118924.055757903, 5412508.3428],...  France  \n",
       "\n",
       "[65 rows x 7 columns]"
      ]
     },
     "execution_count": 13,
     "metadata": {},
     "output_type": "execute_result"
    }
   ],
   "source": [
    "france_aggregated_protests_sdf = aggregated_protests_sdf.spatial.join(france_country_sdf[['COUNTRY', 'SHAPE']])\n",
    "france_aggregated_protests_sdf = france_aggregated_protests_sdf.drop(columns=['index_right'])\n",
    "france_aggregated_protests_sdf"
   ]
  },
  {
   "cell_type": "code",
   "execution_count": 14,
   "id": "c89eb60f",
   "metadata": {},
   "outputs": [
    {
     "data": {
      "application/vnd.jupyter.widget-view+json": {
       "model_id": "ff8ffad734b34307985b60e5c95d7d17",
       "version_major": 2,
       "version_minor": 0
      },
      "text/plain": [
       "MapView(layout=Layout(height='400px', width='100%'))"
      ]
     },
     "metadata": {},
     "output_type": "display_data"
    },
    {
     "data": {
      "text/html": [
       "<div class=\"map-static-img-preview-9c3cff8c-f4c3-4eca-a049-6f4f162d88f3\"><img src=\"\"></img></div>"
      ],
      "text/plain": [
       "<IPython.core.display.HTML object>"
      ]
     },
     "metadata": {},
     "output_type": "display_data"
    },
    {
     "data": {
      "text/html": [
       "<div class=\"map-html-embed-preview-9c3cff8c-f4c3-4eca-a049-6f4f162d88f3\"></div>"
      ],
      "text/plain": [
       "<IPython.core.display.HTML object>"
      ]
     },
     "metadata": {},
     "output_type": "display_data"
    }
   ],
   "source": [
    "protest_map = gis.map('France')\n",
    "protest_map.basemap = 'osm'\n",
    "plot_aggregated(protest_map, france_aggregated_protests_sdf)\n",
    "protest_map"
   ]
  },
  {
   "cell_type": "code",
   "execution_count": null,
   "id": "641ee55c",
   "metadata": {},
   "outputs": [],
   "source": []
  }
 ],
 "metadata": {
  "kernelspec": {
   "display_name": "Python 3 (ipykernel)",
   "language": "python",
   "name": "python3"
  },
  "language_info": {
   "codemirror_mode": {
    "name": "ipython",
    "version": 3
   },
   "file_extension": ".py",
   "mimetype": "text/x-python",
   "name": "python",
   "nbconvert_exporter": "python",
   "pygments_lexer": "ipython3",
   "version": "3.9.15"
  }
 },
 "nbformat": 4,
 "nbformat_minor": 5
}
