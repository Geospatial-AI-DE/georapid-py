{
 "cells": [
  {
   "cell_type": "markdown",
   "id": "f83960a8",
   "metadata": {},
   "source": [
    "# Querying Protests Worldwide\n",
    "Requirements:\n",
    "* ArcGIS API for Python\n",
    "`conda install -c esri arcgis`\n",
    "* arcpy or at least shapely for spatial joins\n"
   ]
  },
  {
   "cell_type": "code",
   "execution_count": 1,
   "id": "103a5002",
   "metadata": {},
   "outputs": [],
   "source": [
    "# author: Jan Tschada\n",
    "# SPDX-License-Identifer: Apache-2.0"
   ]
  },
  {
   "cell_type": "code",
   "execution_count": 2,
   "id": "72b5e350",
   "metadata": {},
   "outputs": [],
   "source": [
    "from arcgis.gis import GIS\n",
    "from arcgis.features import FeatureSet\n",
    "from arcgis.geometry.filters import intersects\n",
    "from arcgis.mapping import generate_classbreaks\n",
    "from datetime import datetime\n",
    "from georapid.client import GeoRapidClient\n",
    "from georapid.factory import EnvironmentClientFactory\n",
    "from georapid.formats import OutFormat\n",
    "from georapid.protests import aggregate"
   ]
  },
  {
   "cell_type": "markdown",
   "id": "86339681",
   "metadata": {},
   "source": [
    "## Creating a client\n",
    "---\n",
    "**NOTE**\n",
    "\n",
    "Ensure that `os.environ['x_rapidapi_key']` holds your Rapid API Key!\n",
    "\n",
    "---"
   ]
  },
  {
   "cell_type": "code",
   "execution_count": 3,
   "id": "62dbf7b5",
   "metadata": {},
   "outputs": [],
   "source": [
    "host = 'geoprotests.p.rapidapi.com'\n",
    "client: GeoRapidClient = EnvironmentClientFactory.create_client_with_host(host)"
   ]
  },
  {
   "cell_type": "markdown",
   "id": "6c671c44",
   "metadata": {},
   "source": [
    "## Connecting to ArcGIS Online"
   ]
  },
  {
   "cell_type": "code",
   "execution_count": 4,
   "id": "c45d0484",
   "metadata": {},
   "outputs": [],
   "source": [
    "gis = GIS()"
   ]
  },
  {
   "cell_type": "code",
   "execution_count": 5,
   "id": "80b1dfb3",
   "metadata": {},
   "outputs": [],
   "source": [
    "def generate_aggregated_renderer(spatial_df, column='count'):\n",
    "    alpha = 0.35\n",
    "    class_breaks_renderer = generate_classbreaks(spatial_df, geometry_type='Polygon', field=column, method='esriClassifyNaturalBreaks', class_count=5, colors='YlOrRd', alpha=0.35)\n",
    "    class_breaks_renderer['defaultSymbol']['color'][3] = int(alpha * 255)\n",
    "    for class_break_info in class_breaks_renderer['classBreakInfos']:\n",
    "        class_break_info['symbol']['color'][3] = int(alpha * 255)\n",
    "    return class_breaks_renderer\n",
    "\n",
    "def plot_aggregated(map_view, spatial_df, column='count'):\n",
    "    \"\"\"\n",
    "    Plots the spatial dataframe as classified polygons using the specified map view.\n",
    "    \"\"\"\n",
    "    if spatial_df.empty:\n",
    "        print(\"The dataframe is empty!\")\n",
    "    else:\n",
    "        class_breaks_renderer = generate_aggregated_renderer(spatial_df)\n",
    "        drawing_info = {\n",
    "            'renderer': class_breaks_renderer\n",
    "        }\n",
    "        feature_collection = spatial_df.spatial.to_feature_collection(drawing_info=drawing_info)\n",
    "        map_view.add_layer(feature_collection)\n",
    "        \n",
    "def query_world_countries(gis, two_digit_country_code):\n",
    "    \"\"\"\n",
    "    Returns the geographic feature of a country.\n",
    "    \"\"\"\n",
    "    world_countries_item_id = '2b93b06dc0dc4e809d3c8db5cb96ba69'\n",
    "    world_countries_item = gis.content.get(world_countries_item_id)\n",
    "    world_countries_layer = world_countries_item.layers[0]\n",
    "    return world_countries_layer.query(where=f\"ISO='{two_digit_country_code}'\")"
   ]
  },
  {
   "cell_type": "markdown",
   "id": "1775d444",
   "metadata": {},
   "source": [
    "## Query the protests and try to narrow down those related to the French pension reform strikes"
   ]
  },
  {
   "cell_type": "code",
   "execution_count": 6,
   "id": "a1132dd6",
   "metadata": {},
   "outputs": [
    {
     "data": {
      "application/vnd.jupyter.widget-view+json": {
       "model_id": "714df51e41704ac79932c58c9343d7e9",
       "version_major": 2,
       "version_minor": 0
      },
      "text/plain": [
       "MapView(layout=Layout(height='400px', width='100%'))"
      ]
     },
     "metadata": {},
     "output_type": "display_data"
    },
    {
     "data": {
      "text/html": [
       "<div class=\"map-static-img-preview-be8da7a8-69ab-4a57-8e9d-bfd6ad80b1c6\"><img src=\"\"></img></div>"
      ],
      "text/plain": [
       "<IPython.core.display.HTML object>"
      ]
     },
     "metadata": {},
     "output_type": "display_data"
    },
    {
     "data": {
      "text/html": [
       "<div class=\"map-html-embed-preview-be8da7a8-69ab-4a57-8e9d-bfd6ad80b1c6\"></div>"
      ],
      "text/plain": [
       "<IPython.core.display.HTML object>"
      ]
     },
     "metadata": {},
     "output_type": "display_data"
    }
   ],
   "source": [
    "protest_map = gis.map('France')\n",
    "protest_map.basemap = 'osm'\n",
    "protest_map"
   ]
  },
  {
   "cell_type": "code",
   "execution_count": 7,
   "id": "65e426e2",
   "metadata": {},
   "outputs": [],
   "source": [
    "date_of_interest = datetime(2023, 1, 19)"
   ]
  },
  {
   "cell_type": "code",
   "execution_count": 8,
   "id": "a5e3aa29",
   "metadata": {},
   "outputs": [
    {
     "data": {
      "text/html": [
       "<div>\n",
       "<style scoped>\n",
       "    .dataframe tbody tr th:only-of-type {\n",
       "        vertical-align: middle;\n",
       "    }\n",
       "\n",
       "    .dataframe tbody tr th {\n",
       "        vertical-align: top;\n",
       "    }\n",
       "\n",
       "    .dataframe thead th {\n",
       "        text-align: right;\n",
       "    }\n",
       "</style>\n",
       "<table border=\"1\" class=\"dataframe\">\n",
       "  <thead>\n",
       "    <tr style=\"text-align: right;\">\n",
       "      <th></th>\n",
       "      <th>OBJECTID</th>\n",
       "      <th>count</th>\n",
       "      <th>timestamp</th>\n",
       "      <th>Shape__Area</th>\n",
       "      <th>Shape__Length</th>\n",
       "      <th>SHAPE</th>\n",
       "    </tr>\n",
       "  </thead>\n",
       "  <tbody>\n",
       "    <tr>\n",
       "      <th>18</th>\n",
       "      <td>38893</td>\n",
       "      <td>1028</td>\n",
       "      <td>2023-01-19</td>\n",
       "      <td>54126587736.526367</td>\n",
       "      <td>866025.403784</td>\n",
       "      <td>{\"rings\": [[[-8779178.09360229, -1337491.6572]...</td>\n",
       "    </tr>\n",
       "    <tr>\n",
       "      <th>49</th>\n",
       "      <td>38924</td>\n",
       "      <td>366</td>\n",
       "      <td>2023-01-19</td>\n",
       "      <td>54126587736.527466</td>\n",
       "      <td>866025.403784</td>\n",
       "      <td>{\"rings\": [[[97582.2951882072, 6287508.3428], ...</td>\n",
       "    </tr>\n",
       "    <tr>\n",
       "      <th>17</th>\n",
       "      <td>38892</td>\n",
       "      <td>204</td>\n",
       "      <td>2023-01-19</td>\n",
       "      <td>54126587736.527832</td>\n",
       "      <td>866025.403784</td>\n",
       "      <td>{\"rings\": [[[-8779178.09360229, -837491.657200...</td>\n",
       "    </tr>\n",
       "    <tr>\n",
       "      <th>14</th>\n",
       "      <td>38889</td>\n",
       "      <td>72</td>\n",
       "      <td>2023-01-19</td>\n",
       "      <td>54126587736.527344</td>\n",
       "      <td>866025.403784</td>\n",
       "      <td>{\"rings\": [[[-8995684.4445484, -712491.6572000...</td>\n",
       "    </tr>\n",
       "    <tr>\n",
       "      <th>29</th>\n",
       "      <td>38904</td>\n",
       "      <td>50</td>\n",
       "      <td>2023-01-19</td>\n",
       "      <td>54126587736.527344</td>\n",
       "      <td>866025.403784</td>\n",
       "      <td>{\"rings\": [[[-7913152.68981785, -1587491.6572]...</td>\n",
       "    </tr>\n",
       "    <tr>\n",
       "      <th>...</th>\n",
       "      <td>...</td>\n",
       "      <td>...</td>\n",
       "      <td>...</td>\n",
       "      <td>...</td>\n",
       "      <td>...</td>\n",
       "      <td>...</td>\n",
       "    </tr>\n",
       "    <tr>\n",
       "      <th>65</th>\n",
       "      <td>38940</td>\n",
       "      <td>1</td>\n",
       "      <td>2023-01-19</td>\n",
       "      <td>54126587736.527344</td>\n",
       "      <td>866025.403784</td>\n",
       "      <td>{\"rings\": [[[1613126.75181098, 6412508.3428], ...</td>\n",
       "    </tr>\n",
       "    <tr>\n",
       "      <th>71</th>\n",
       "      <td>38946</td>\n",
       "      <td>1</td>\n",
       "      <td>2023-01-19</td>\n",
       "      <td>54126587736.527344</td>\n",
       "      <td>866025.403784</td>\n",
       "      <td>{\"rings\": [[[3561683.91032596, 7037508.3428], ...</td>\n",
       "    </tr>\n",
       "    <tr>\n",
       "      <th>45</th>\n",
       "      <td>38920</td>\n",
       "      <td>1</td>\n",
       "      <td>2023-01-19</td>\n",
       "      <td>54126587736.527435</td>\n",
       "      <td>866025.403784</td>\n",
       "      <td>{\"rings\": [[[-118924.055757903, 6412508.3428],...</td>\n",
       "    </tr>\n",
       "    <tr>\n",
       "      <th>8</th>\n",
       "      <td>38883</td>\n",
       "      <td>1</td>\n",
       "      <td>2023-01-19</td>\n",
       "      <td>54126587736.526367</td>\n",
       "      <td>866025.403784</td>\n",
       "      <td>{\"rings\": [[[-9861709.84833284, 1537508.3428],...</td>\n",
       "    </tr>\n",
       "    <tr>\n",
       "      <th>70</th>\n",
       "      <td>38945</td>\n",
       "      <td>1</td>\n",
       "      <td>2023-01-19</td>\n",
       "      <td>54126587736.527466</td>\n",
       "      <td>866025.403784</td>\n",
       "      <td>{\"rings\": [[[3128671.20843374, -212491.6572000...</td>\n",
       "    </tr>\n",
       "  </tbody>\n",
       "</table>\n",
       "<p>97 rows × 6 columns</p>\n",
       "</div>"
      ],
      "text/plain": [
       "    OBJECTID  count  timestamp         Shape__Area  Shape__Length  \\\n",
       "18     38893   1028 2023-01-19  54126587736.526367  866025.403784   \n",
       "49     38924    366 2023-01-19  54126587736.527466  866025.403784   \n",
       "17     38892    204 2023-01-19  54126587736.527832  866025.403784   \n",
       "14     38889     72 2023-01-19  54126587736.527344  866025.403784   \n",
       "29     38904     50 2023-01-19  54126587736.527344  866025.403784   \n",
       "..       ...    ...        ...                 ...            ...   \n",
       "65     38940      1 2023-01-19  54126587736.527344  866025.403784   \n",
       "71     38946      1 2023-01-19  54126587736.527344  866025.403784   \n",
       "45     38920      1 2023-01-19  54126587736.527435  866025.403784   \n",
       "8      38883      1 2023-01-19  54126587736.526367  866025.403784   \n",
       "70     38945      1 2023-01-19  54126587736.527466  866025.403784   \n",
       "\n",
       "                                                SHAPE  \n",
       "18  {\"rings\": [[[-8779178.09360229, -1337491.6572]...  \n",
       "49  {\"rings\": [[[97582.2951882072, 6287508.3428], ...  \n",
       "17  {\"rings\": [[[-8779178.09360229, -837491.657200...  \n",
       "14  {\"rings\": [[[-8995684.4445484, -712491.6572000...  \n",
       "29  {\"rings\": [[[-7913152.68981785, -1587491.6572]...  \n",
       "..                                                ...  \n",
       "65  {\"rings\": [[[1613126.75181098, 6412508.3428], ...  \n",
       "71  {\"rings\": [[[3561683.91032596, 7037508.3428], ...  \n",
       "45  {\"rings\": [[[-118924.055757903, 6412508.3428],...  \n",
       "8   {\"rings\": [[[-9861709.84833284, 1537508.3428],...  \n",
       "70  {\"rings\": [[[3128671.20843374, -212491.6572000...  \n",
       "\n",
       "[97 rows x 6 columns]"
      ]
     },
     "execution_count": 8,
     "metadata": {},
     "output_type": "execute_result"
    }
   ],
   "source": [
    "aggregated_protests_dict = aggregate(client, date_of_interest, OutFormat.ESRI)\n",
    "aggregated_protests_fset = FeatureSet.from_dict(aggregated_protests_dict)\n",
    "aggregated_protests_sdf = aggregated_protests_fset.sdf\n",
    "aggregated_protests_sdf.sort_values(by='count', ascending=False)"
   ]
  },
  {
   "cell_type": "code",
   "execution_count": 9,
   "id": "e4a96d6f",
   "metadata": {},
   "outputs": [
    {
     "data": {
      "application/vnd.jupyter.widget-view+json": {
       "model_id": "ff85f5533ce74a1086cf328b842aac8c",
       "version_major": 2,
       "version_minor": 0
      },
      "text/plain": [
       "MapView(layout=Layout(height='400px', width='100%'))"
      ]
     },
     "metadata": {},
     "output_type": "display_data"
    },
    {
     "data": {
      "text/html": [
       "<div class=\"map-static-img-preview-409bcc2f-daa7-466d-88e8-3606ee8c71ed\"><img src=\"\"></img></div>"
      ],
      "text/plain": [
       "<IPython.core.display.HTML object>"
      ]
     },
     "metadata": {},
     "output_type": "display_data"
    },
    {
     "data": {
      "text/html": [
       "<div class=\"map-html-embed-preview-409bcc2f-daa7-466d-88e8-3606ee8c71ed\"></div>"
      ],
      "text/plain": [
       "<IPython.core.display.HTML object>"
      ]
     },
     "metadata": {},
     "output_type": "display_data"
    }
   ],
   "source": [
    "protest_map = gis.map('France')\n",
    "protest_map.basemap = 'osm'\n",
    "plot_aggregated(protest_map, aggregated_protests_sdf)\n",
    "protest_map"
   ]
  },
  {
   "cell_type": "markdown",
   "id": "ce948474",
   "metadata": {},
   "source": [
    "## Filter the news related to protests being located in France\n",
    "---\n",
    "**NOTE**\n",
    "\n",
    "If your environment has no geometry engine (`arcpy` or `shapely`) the spatial join returns an empty data frame!\n",
    "\n",
    "---"
   ]
  },
  {
   "cell_type": "code",
   "execution_count": 10,
   "id": "856518d9",
   "metadata": {},
   "outputs": [
    {
     "data": {
      "text/html": [
       "<div>\n",
       "<style scoped>\n",
       "    .dataframe tbody tr th:only-of-type {\n",
       "        vertical-align: middle;\n",
       "    }\n",
       "\n",
       "    .dataframe tbody tr th {\n",
       "        vertical-align: top;\n",
       "    }\n",
       "\n",
       "    .dataframe thead th {\n",
       "        text-align: right;\n",
       "    }\n",
       "</style>\n",
       "<table border=\"1\" class=\"dataframe\">\n",
       "  <thead>\n",
       "    <tr style=\"text-align: right;\">\n",
       "      <th></th>\n",
       "      <th>FID</th>\n",
       "      <th>COUNTRY</th>\n",
       "      <th>ISO</th>\n",
       "      <th>COUNTRYAFF</th>\n",
       "      <th>AFF_ISO</th>\n",
       "      <th>Shape__Area</th>\n",
       "      <th>Shape__Length</th>\n",
       "      <th>SHAPE</th>\n",
       "    </tr>\n",
       "  </thead>\n",
       "  <tbody>\n",
       "    <tr>\n",
       "      <th>0</th>\n",
       "      <td>79</td>\n",
       "      <td>France</td>\n",
       "      <td>FR</td>\n",
       "      <td>France</td>\n",
       "      <td>FR</td>\n",
       "      <td>1162358729551.715332</td>\n",
       "      <td>8568685.86359</td>\n",
       "      <td>{\"rings\": [[[198339.953048288, 5246743.3982777...</td>\n",
       "    </tr>\n",
       "  </tbody>\n",
       "</table>\n",
       "</div>"
      ],
      "text/plain": [
       "   FID COUNTRY ISO COUNTRYAFF AFF_ISO           Shape__Area  Shape__Length  \\\n",
       "0   79  France  FR     France      FR  1162358729551.715332  8568685.86359   \n",
       "\n",
       "                                               SHAPE  \n",
       "0  {\"rings\": [[[198339.953048288, 5246743.3982777...  "
      ]
     },
     "execution_count": 10,
     "metadata": {},
     "output_type": "execute_result"
    }
   ],
   "source": [
    "france_country_fset = query_world_countries(gis, two_digit_country_code='FR')\n",
    "france_country_sdf = france_country_fset.sdf\n",
    "france_country_sdf"
   ]
  },
  {
   "cell_type": "code",
   "execution_count": 34,
   "id": "a84e9c96",
   "metadata": {},
   "outputs": [
    {
     "data": {
      "text/html": [
       "<div>\n",
       "<style scoped>\n",
       "    .dataframe tbody tr th:only-of-type {\n",
       "        vertical-align: middle;\n",
       "    }\n",
       "\n",
       "    .dataframe tbody tr th {\n",
       "        vertical-align: top;\n",
       "    }\n",
       "\n",
       "    .dataframe thead th {\n",
       "        text-align: right;\n",
       "    }\n",
       "</style>\n",
       "<table border=\"1\" class=\"dataframe\">\n",
       "  <thead>\n",
       "    <tr style=\"text-align: right;\">\n",
       "      <th></th>\n",
       "      <th>OBJECTID</th>\n",
       "      <th>count</th>\n",
       "      <th>timestamp</th>\n",
       "      <th>Shape__Area</th>\n",
       "      <th>Shape__Length</th>\n",
       "      <th>SHAPE</th>\n",
       "      <th>COUNTRY</th>\n",
       "    </tr>\n",
       "  </thead>\n",
       "  <tbody>\n",
       "    <tr>\n",
       "      <th>0</th>\n",
       "      <td>38916</td>\n",
       "      <td>9</td>\n",
       "      <td>2023-01-19</td>\n",
       "      <td>54126587736.52771</td>\n",
       "      <td>866025.403784</td>\n",
       "      <td>{\"rings\": [[[-551936.757650122, 6162508.3428],...</td>\n",
       "      <td>France</td>\n",
       "    </tr>\n",
       "    <tr>\n",
       "      <th>1</th>\n",
       "      <td>38920</td>\n",
       "      <td>1</td>\n",
       "      <td>2023-01-19</td>\n",
       "      <td>54126587736.527435</td>\n",
       "      <td>866025.403784</td>\n",
       "      <td>{\"rings\": [[[-118924.055757903, 6412508.3428],...</td>\n",
       "      <td>France</td>\n",
       "    </tr>\n",
       "    <tr>\n",
       "      <th>2</th>\n",
       "      <td>38921</td>\n",
       "      <td>5</td>\n",
       "      <td>2023-01-19</td>\n",
       "      <td>54126587736.527527</td>\n",
       "      <td>866025.403784</td>\n",
       "      <td>{\"rings\": [[[-118924.055757903, 5912508.3428],...</td>\n",
       "      <td>France</td>\n",
       "    </tr>\n",
       "    <tr>\n",
       "      <th>3</th>\n",
       "      <td>38922</td>\n",
       "      <td>5</td>\n",
       "      <td>2023-01-19</td>\n",
       "      <td>54126587736.527405</td>\n",
       "      <td>866025.403784</td>\n",
       "      <td>{\"rings\": [[[-118924.055757903, 5662508.3428],...</td>\n",
       "      <td>France</td>\n",
       "    </tr>\n",
       "    <tr>\n",
       "      <th>4</th>\n",
       "      <td>38923</td>\n",
       "      <td>4</td>\n",
       "      <td>2023-01-19</td>\n",
       "      <td>54126587736.527344</td>\n",
       "      <td>866025.403784</td>\n",
       "      <td>{\"rings\": [[[-118924.055757903, 5412508.3428],...</td>\n",
       "      <td>France</td>\n",
       "    </tr>\n",
       "    <tr>\n",
       "      <th>5</th>\n",
       "      <td>38924</td>\n",
       "      <td>366</td>\n",
       "      <td>2023-01-19</td>\n",
       "      <td>54126587736.527466</td>\n",
       "      <td>866025.403784</td>\n",
       "      <td>{\"rings\": [[[97582.2951882072, 6287508.3428], ...</td>\n",
       "      <td>France</td>\n",
       "    </tr>\n",
       "    <tr>\n",
       "      <th>6</th>\n",
       "      <td>38925</td>\n",
       "      <td>9</td>\n",
       "      <td>2023-01-19</td>\n",
       "      <td>54126587736.527649</td>\n",
       "      <td>866025.403784</td>\n",
       "      <td>{\"rings\": [[[97582.2951882072, 6037508.3428], ...</td>\n",
       "      <td>France</td>\n",
       "    </tr>\n",
       "    <tr>\n",
       "      <th>7</th>\n",
       "      <td>38926</td>\n",
       "      <td>9</td>\n",
       "      <td>2023-01-19</td>\n",
       "      <td>54126587736.527344</td>\n",
       "      <td>866025.403784</td>\n",
       "      <td>{\"rings\": [[[97582.2951882072, 5787508.3428], ...</td>\n",
       "      <td>France</td>\n",
       "    </tr>\n",
       "    <tr>\n",
       "      <th>8</th>\n",
       "      <td>38927</td>\n",
       "      <td>5</td>\n",
       "      <td>2023-01-19</td>\n",
       "      <td>54126587736.527466</td>\n",
       "      <td>866025.403784</td>\n",
       "      <td>{\"rings\": [[[97582.2951882072, 5537508.3428], ...</td>\n",
       "      <td>France</td>\n",
       "    </tr>\n",
       "    <tr>\n",
       "      <th>9</th>\n",
       "      <td>38928</td>\n",
       "      <td>9</td>\n",
       "      <td>2023-01-19</td>\n",
       "      <td>54126587736.527283</td>\n",
       "      <td>866025.403784</td>\n",
       "      <td>{\"rings\": [[[97582.2951882072, 5287508.3428], ...</td>\n",
       "      <td>France</td>\n",
       "    </tr>\n",
       "    <tr>\n",
       "      <th>10</th>\n",
       "      <td>38931</td>\n",
       "      <td>4</td>\n",
       "      <td>2023-01-19</td>\n",
       "      <td>54126587736.527466</td>\n",
       "      <td>866025.403784</td>\n",
       "      <td>{\"rings\": [[[314088.646134317, 5912508.3428], ...</td>\n",
       "      <td>France</td>\n",
       "    </tr>\n",
       "    <tr>\n",
       "      <th>11</th>\n",
       "      <td>38932</td>\n",
       "      <td>3</td>\n",
       "      <td>2023-01-19</td>\n",
       "      <td>54126587736.527588</td>\n",
       "      <td>866025.403784</td>\n",
       "      <td>{\"rings\": [[[314088.646134317, 5412508.3428], ...</td>\n",
       "      <td>France</td>\n",
       "    </tr>\n",
       "    <tr>\n",
       "      <th>12</th>\n",
       "      <td>38934</td>\n",
       "      <td>3</td>\n",
       "      <td>2023-01-19</td>\n",
       "      <td>54126587736.527832</td>\n",
       "      <td>866025.403784</td>\n",
       "      <td>{\"rings\": [[[530594.997080427, 6037508.3428], ...</td>\n",
       "      <td>France</td>\n",
       "    </tr>\n",
       "    <tr>\n",
       "      <th>13</th>\n",
       "      <td>38935</td>\n",
       "      <td>4</td>\n",
       "      <td>2023-01-19</td>\n",
       "      <td>54126587736.526855</td>\n",
       "      <td>866025.403784</td>\n",
       "      <td>{\"rings\": [[[530594.997080427, 5787508.3428], ...</td>\n",
       "      <td>France</td>\n",
       "    </tr>\n",
       "    <tr>\n",
       "      <th>14</th>\n",
       "      <td>38936</td>\n",
       "      <td>9</td>\n",
       "      <td>2023-01-19</td>\n",
       "      <td>54126587736.527832</td>\n",
       "      <td>866025.403784</td>\n",
       "      <td>{\"rings\": [[[530594.997080427, 5537508.3428], ...</td>\n",
       "      <td>France</td>\n",
       "    </tr>\n",
       "    <tr>\n",
       "      <th>15</th>\n",
       "      <td>38937</td>\n",
       "      <td>8</td>\n",
       "      <td>2023-01-19</td>\n",
       "      <td>54126587736.527832</td>\n",
       "      <td>866025.403784</td>\n",
       "      <td>{\"rings\": [[[747101.348026536, 6162508.3428], ...</td>\n",
       "      <td>France</td>\n",
       "    </tr>\n",
       "  </tbody>\n",
       "</table>\n",
       "</div>"
      ],
      "text/plain": [
       "    OBJECTID  count  timestamp         Shape__Area  Shape__Length  \\\n",
       "0      38916      9 2023-01-19   54126587736.52771  866025.403784   \n",
       "1      38920      1 2023-01-19  54126587736.527435  866025.403784   \n",
       "2      38921      5 2023-01-19  54126587736.527527  866025.403784   \n",
       "3      38922      5 2023-01-19  54126587736.527405  866025.403784   \n",
       "4      38923      4 2023-01-19  54126587736.527344  866025.403784   \n",
       "5      38924    366 2023-01-19  54126587736.527466  866025.403784   \n",
       "6      38925      9 2023-01-19  54126587736.527649  866025.403784   \n",
       "7      38926      9 2023-01-19  54126587736.527344  866025.403784   \n",
       "8      38927      5 2023-01-19  54126587736.527466  866025.403784   \n",
       "9      38928      9 2023-01-19  54126587736.527283  866025.403784   \n",
       "10     38931      4 2023-01-19  54126587736.527466  866025.403784   \n",
       "11     38932      3 2023-01-19  54126587736.527588  866025.403784   \n",
       "12     38934      3 2023-01-19  54126587736.527832  866025.403784   \n",
       "13     38935      4 2023-01-19  54126587736.526855  866025.403784   \n",
       "14     38936      9 2023-01-19  54126587736.527832  866025.403784   \n",
       "15     38937      8 2023-01-19  54126587736.527832  866025.403784   \n",
       "\n",
       "                                                SHAPE COUNTRY  \n",
       "0   {\"rings\": [[[-551936.757650122, 6162508.3428],...  France  \n",
       "1   {\"rings\": [[[-118924.055757903, 6412508.3428],...  France  \n",
       "2   {\"rings\": [[[-118924.055757903, 5912508.3428],...  France  \n",
       "3   {\"rings\": [[[-118924.055757903, 5662508.3428],...  France  \n",
       "4   {\"rings\": [[[-118924.055757903, 5412508.3428],...  France  \n",
       "5   {\"rings\": [[[97582.2951882072, 6287508.3428], ...  France  \n",
       "6   {\"rings\": [[[97582.2951882072, 6037508.3428], ...  France  \n",
       "7   {\"rings\": [[[97582.2951882072, 5787508.3428], ...  France  \n",
       "8   {\"rings\": [[[97582.2951882072, 5537508.3428], ...  France  \n",
       "9   {\"rings\": [[[97582.2951882072, 5287508.3428], ...  France  \n",
       "10  {\"rings\": [[[314088.646134317, 5912508.3428], ...  France  \n",
       "11  {\"rings\": [[[314088.646134317, 5412508.3428], ...  France  \n",
       "12  {\"rings\": [[[530594.997080427, 6037508.3428], ...  France  \n",
       "13  {\"rings\": [[[530594.997080427, 5787508.3428], ...  France  \n",
       "14  {\"rings\": [[[530594.997080427, 5537508.3428], ...  France  \n",
       "15  {\"rings\": [[[747101.348026536, 6162508.3428], ...  France  "
      ]
     },
     "execution_count": 34,
     "metadata": {},
     "output_type": "execute_result"
    }
   ],
   "source": [
    "france_aggregated_protests_sdf = aggregated_protests_sdf.spatial.join(france_country_sdf[['COUNTRY', 'SHAPE']])\n",
    "france_aggregated_protests_sdf = france_aggregated_protests_sdf.drop(columns=['index_right'])\n",
    "france_aggregated_protests_sdf"
   ]
  },
  {
   "cell_type": "code",
   "execution_count": 35,
   "id": "c89eb60f",
   "metadata": {},
   "outputs": [
    {
     "data": {
      "application/vnd.jupyter.widget-view+json": {
       "model_id": "ecfdb45bfd1f4bfbb8bde864a886cbc8",
       "version_major": 2,
       "version_minor": 0
      },
      "text/plain": [
       "MapView(layout=Layout(height='400px', width='100%'))"
      ]
     },
     "metadata": {},
     "output_type": "display_data"
    },
    {
     "data": {
      "text/html": [
       "<div class=\"map-static-img-preview-b51c9584-b1bf-47f2-aa28-403f48fb92be\"><img src=\"\"></img></div>"
      ],
      "text/plain": [
       "<IPython.core.display.HTML object>"
      ]
     },
     "metadata": {},
     "output_type": "display_data"
    },
    {
     "data": {
      "text/html": [
       "<div class=\"map-html-embed-preview-b51c9584-b1bf-47f2-aa28-403f48fb92be\"></div>"
      ],
      "text/plain": [
       "<IPython.core.display.HTML object>"
      ]
     },
     "metadata": {},
     "output_type": "display_data"
    }
   ],
   "source": [
    "protest_map = gis.map('France')\n",
    "protest_map.basemap = 'osm'\n",
    "plot_aggregated(protest_map, france_aggregated_protests_sdf)\n",
    "protest_map"
   ]
  },
  {
   "cell_type": "code",
   "execution_count": null,
   "id": "641ee55c",
   "metadata": {},
   "outputs": [],
   "source": []
  }
 ],
 "metadata": {
  "kernelspec": {
   "display_name": "Python 3 (ipykernel)",
   "language": "python",
   "name": "python3"
  },
  "language_info": {
   "codemirror_mode": {
    "name": "ipython",
    "version": 3
   },
   "file_extension": ".py",
   "mimetype": "text/x-python",
   "name": "python",
   "nbconvert_exporter": "python",
   "pygments_lexer": "ipython3",
   "version": "3.11.9"
  }
 },
 "nbformat": 4,
 "nbformat_minor": 5
}
