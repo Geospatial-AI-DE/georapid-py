{
 "cells": [
  {
   "cell_type": "code",
   "execution_count": 3,
   "id": "d578e4c3",
   "metadata": {},
   "outputs": [],
   "source": [
    "# author: Jan Tschada\n",
    "# SPDX-License-Identifer: Apache-2.0"
   ]
  },
  {
   "cell_type": "code",
   "execution_count": 18,
   "id": "390dc3e7",
   "metadata": {},
   "outputs": [],
   "source": [
    "from arcgis.gis import GIS\n",
    "from arcgis.features import FeatureSet\n",
    "from arcgis.geometry import union\n",
    "from arcgis.geometry.filters import intersects\n",
    "from arcgis.mapping import generate_classbreaks\n",
    "from datetime import datetime\n",
    "from georapid.client import GeoRapidClient\n",
    "from georapid.factory import EnvironmentClientFactory\n",
    "from georapid.fires import aggregate\n",
    "from georapid.formats import OutFormat"
   ]
  },
  {
   "cell_type": "markdown",
   "id": "6e6e0627",
   "metadata": {},
   "source": [
    "## Creating a client\n",
    "\n",
    "**NOTE**\n",
    "\n",
    "Ensure that `os.environ['x_rapidapi_key']` holds your Rapid API Key!\n"
   ]
  },
  {
   "cell_type": "code",
   "execution_count": 2,
   "id": "3440012e",
   "metadata": {},
   "outputs": [],
   "source": [
    "host = 'geofires.p.rapidapi.com'\n",
    "client: GeoRapidClient = EnvironmentClientFactory.create_client_with_host(host)"
   ]
  },
  {
   "cell_type": "code",
   "execution_count": 8,
   "id": "8b7bffca",
   "metadata": {},
   "outputs": [
    {
     "data": {
      "text/html": [
       "<div>\n",
       "<style scoped>\n",
       "    .dataframe tbody tr th:only-of-type {\n",
       "        vertical-align: middle;\n",
       "    }\n",
       "\n",
       "    .dataframe tbody tr th {\n",
       "        vertical-align: top;\n",
       "    }\n",
       "\n",
       "    .dataframe thead th {\n",
       "        text-align: right;\n",
       "    }\n",
       "</style>\n",
       "<table border=\"1\" class=\"dataframe\">\n",
       "  <thead>\n",
       "    <tr style=\"text-align: right;\">\n",
       "      <th></th>\n",
       "      <th>index</th>\n",
       "      <th>count</th>\n",
       "      <th>OBJECTID</th>\n",
       "      <th>SHAPE</th>\n",
       "    </tr>\n",
       "  </thead>\n",
       "  <tbody>\n",
       "    <tr>\n",
       "      <th>0</th>\n",
       "      <td>0</td>\n",
       "      <td>24</td>\n",
       "      <td>1</td>\n",
       "      <td>{\"rings\": [[[-8995684.444548402, 5537508.34279...</td>\n",
       "    </tr>\n",
       "    <tr>\n",
       "      <th>1</th>\n",
       "      <td>1</td>\n",
       "      <td>39</td>\n",
       "      <td>2</td>\n",
       "      <td>{\"rings\": [[[-12459786.059686158, 7787508.3427...</td>\n",
       "    </tr>\n",
       "    <tr>\n",
       "      <th>2</th>\n",
       "      <td>2</td>\n",
       "      <td>40</td>\n",
       "      <td>3</td>\n",
       "      <td>{\"rings\": [[[-8562671.742656182, 5787508.34279...</td>\n",
       "    </tr>\n",
       "    <tr>\n",
       "      <th>3</th>\n",
       "      <td>3</td>\n",
       "      <td>17</td>\n",
       "      <td>4</td>\n",
       "      <td>{\"rings\": [[[-12892798.761578377, 7537508.3427...</td>\n",
       "    </tr>\n",
       "    <tr>\n",
       "      <th>4</th>\n",
       "      <td>8</td>\n",
       "      <td>31</td>\n",
       "      <td>5</td>\n",
       "      <td>{\"rings\": [[[-8129659.040763963, 6037508.34279...</td>\n",
       "    </tr>\n",
       "    <tr>\n",
       "      <th>...</th>\n",
       "      <td>...</td>\n",
       "      <td>...</td>\n",
       "      <td>...</td>\n",
       "      <td>...</td>\n",
       "    </tr>\n",
       "    <tr>\n",
       "      <th>279</th>\n",
       "      <td>928</td>\n",
       "      <td>1</td>\n",
       "      <td>280</td>\n",
       "      <td>{\"rings\": [[[314088.6461343169, 6662508.342799...</td>\n",
       "    </tr>\n",
       "    <tr>\n",
       "      <th>280</th>\n",
       "      <td>942</td>\n",
       "      <td>1</td>\n",
       "      <td>281</td>\n",
       "      <td>{\"rings\": [[[-8129659.040763963, -3962491.6572...</td>\n",
       "    </tr>\n",
       "    <tr>\n",
       "      <th>281</th>\n",
       "      <td>943</td>\n",
       "      <td>1</td>\n",
       "      <td>282</td>\n",
       "      <td>{\"rings\": [[[-13758824.165362816, 4787508.3427...</td>\n",
       "    </tr>\n",
       "    <tr>\n",
       "      <th>282</th>\n",
       "      <td>992</td>\n",
       "      <td>1</td>\n",
       "      <td>283</td>\n",
       "      <td>{\"rings\": [[[963607.6989726461, 8287508.342799...</td>\n",
       "    </tr>\n",
       "    <tr>\n",
       "      <th>283</th>\n",
       "      <td>1003</td>\n",
       "      <td>1</td>\n",
       "      <td>284</td>\n",
       "      <td>{\"rings\": [[[-15707381.323877804, 10412508.342...</td>\n",
       "    </tr>\n",
       "  </tbody>\n",
       "</table>\n",
       "<p>284 rows × 4 columns</p>\n",
       "</div>"
      ],
      "text/plain": [
       "     index  count  OBJECTID                                              SHAPE\n",
       "0        0     24         1  {\"rings\": [[[-8995684.444548402, 5537508.34279...\n",
       "1        1     39         2  {\"rings\": [[[-12459786.059686158, 7787508.3427...\n",
       "2        2     40         3  {\"rings\": [[[-8562671.742656182, 5787508.34279...\n",
       "3        3     17         4  {\"rings\": [[[-12892798.761578377, 7537508.3427...\n",
       "4        8     31         5  {\"rings\": [[[-8129659.040763963, 6037508.34279...\n",
       "..     ...    ...       ...                                                ...\n",
       "279    928      1       280  {\"rings\": [[[314088.6461343169, 6662508.342799...\n",
       "280    942      1       281  {\"rings\": [[[-8129659.040763963, -3962491.6572...\n",
       "281    943      1       282  {\"rings\": [[[-13758824.165362816, 4787508.3427...\n",
       "282    992      1       283  {\"rings\": [[[963607.6989726461, 8287508.342799...\n",
       "283   1003      1       284  {\"rings\": [[[-15707381.323877804, 10412508.342...\n",
       "\n",
       "[284 rows x 4 columns]"
      ]
     },
     "execution_count": 8,
     "metadata": {},
     "output_type": "execute_result"
    }
   ],
   "source": [
    "date_of_interest = datetime(2024, 1, 8)\n",
    "aggregated_fires_dict = aggregate(client, date_of_interest, OutFormat.ESRI)\n",
    "aggregated_fires_fset = FeatureSet.from_dict(aggregated_fires_dict)\n",
    "aggregated_fires_sdf = aggregated_fires_fset.sdf\n",
    "aggregated_fires_sdf"
   ]
  },
  {
   "cell_type": "markdown",
   "id": "63431aa4",
   "metadata": {},
   "source": [
    "## Map news related to wildfires in California"
   ]
  },
  {
   "cell_type": "code",
   "execution_count": 9,
   "id": "3e1aa3c9",
   "metadata": {},
   "outputs": [],
   "source": [
    "def generate_aggregated_renderer(spatial_df, column='count'):\n",
    "    alpha = 0.35\n",
    "    class_breaks_renderer = generate_classbreaks(spatial_df, geometry_type='Polygon', field=column, method='esriClassifyNaturalBreaks', class_count=5, colors='YlOrRd', alpha=0.35)\n",
    "    class_breaks_renderer['defaultSymbol']['color'][3] = int(alpha * 255)\n",
    "    for class_break_info in class_breaks_renderer['classBreakInfos']:\n",
    "        class_break_info['symbol']['color'][3] = int(alpha * 255)\n",
    "    return class_breaks_renderer\n",
    "\n",
    "def plot_aggregated(map_view, spatial_df, column='count'):\n",
    "    \"\"\"\n",
    "    Plots the spatial dataframe as classified polygons using the specified map view.\n",
    "    \"\"\"\n",
    "    if spatial_df.empty:\n",
    "        print(\"The dataframe is empty!\")\n",
    "    else:\n",
    "        class_breaks_renderer = generate_aggregated_renderer(spatial_df)\n",
    "        drawing_info = {\n",
    "            'renderer': class_breaks_renderer\n",
    "        }\n",
    "        feature_collection = spatial_df.spatial.to_feature_collection(drawing_info=drawing_info)\n",
    "        map_view.add_layer(feature_collection)"
   ]
  },
  {
   "cell_type": "code",
   "execution_count": 10,
   "id": "2926d8d3",
   "metadata": {},
   "outputs": [],
   "source": [
    "gis = GIS()"
   ]
  },
  {
   "cell_type": "code",
   "execution_count": 11,
   "id": "20fbcf13",
   "metadata": {},
   "outputs": [],
   "source": [
    "map_view = gis.map('California, USA')\n",
    "map_view.basemap = 'osm'"
   ]
  },
  {
   "cell_type": "code",
   "execution_count": 12,
   "id": "1ba911b4",
   "metadata": {},
   "outputs": [
    {
     "data": {
      "application/vnd.jupyter.widget-view+json": {
       "model_id": "c193a3c7940a4b0e9aca2d31472c3fa4",
       "version_major": 2,
       "version_minor": 0
      },
      "text/plain": [
       "MapView(layout=Layout(height='400px', width='100%'))"
      ]
     },
     "metadata": {},
     "output_type": "display_data"
    },
    {
     "data": {
      "text/html": [
       "<div class=\"map-static-img-preview-8f1f68c3-d687-481e-9c28-aaa28fdc4bcf\"><img src=\"\"></img></div>"
      ],
      "text/plain": [
       "<IPython.core.display.HTML object>"
      ]
     },
     "metadata": {},
     "output_type": "display_data"
    },
    {
     "data": {
      "text/html": [
       "<div class=\"map-html-embed-preview-8f1f68c3-d687-481e-9c28-aaa28fdc4bcf\"></div>"
      ],
      "text/plain": [
       "<IPython.core.display.HTML object>"
      ]
     },
     "metadata": {},
     "output_type": "display_data"
    }
   ],
   "source": [
    "plot_aggregated(map_view, aggregated_fires_sdf)\n",
    "map_view"
   ]
  },
  {
   "cell_type": "code",
   "execution_count": 13,
   "id": "e904d30a",
   "metadata": {},
   "outputs": [
    {
     "data": {
      "text/html": [
       "<div class=\"item_container\" style=\"height: auto; overflow: hidden; border: 1px solid #cfcfcf; border-radius: 2px; background: #f6fafa; line-height: 1.21429em; padding: 10px;\">\n",
       "                    <div class=\"item_left\" style=\"width: 210px; float: left;\">\n",
       "                       <a href='https://www.arcgis.com/home/item.html?id=b8f4033069f141729ffb298b7418b653' target='_blank'>\n",
       "                        <img src='https://www.arcgis.com/sharing/rest//content/items/b8f4033069f141729ffb298b7418b653/info/thumbnail/thumbnail1560896788298.jpeg' class=\"itemThumbnail\">\n",
       "                       </a>\n",
       "                    </div>\n",
       "\n",
       "                    <div class=\"item_right\"     style=\"float: none; width: auto; overflow: hidden;\">\n",
       "                        <a href='https://www.arcgis.com/home/item.html?id=b8f4033069f141729ffb298b7418b653' target='_blank'><b>Satellite (MODIS) Thermal Hotspots and Fire Activity</b>\n",
       "                        </a>\n",
       "                        <br/>Thermal activity detected by the MODIS sensors on the NASA Aqua and Terra satellites during the last 48 hours and 7 days.<img src='https://www.arcgis.com/home/js/jsapi/esri/css/images/item_type_icons/featureshosted16.png' style=\"vertical-align:middle;\" width=16 height=16>Feature Layer Collection by esri_livefeeds2\n",
       "                        <br/>Last Modified: January 11, 2025\n",
       "                        <br/>35 comments, 107571601 views\n",
       "                    </div>\n",
       "                </div>\n",
       "                "
      ],
      "text/plain": [
       "<Item title:\"Satellite (MODIS) Thermal Hotspots and Fire Activity\" type:Feature Layer Collection owner:esri_livefeeds2>"
      ]
     },
     "execution_count": 13,
     "metadata": {},
     "output_type": "execute_result"
    }
   ],
   "source": [
    "item_id = 'b8f4033069f141729ffb298b7418b653'\n",
    "thermal_item = gis.content.get(item_id)\n",
    "thermal_item"
   ]
  },
  {
   "cell_type": "code",
   "execution_count": 30,
   "id": "ae63a449",
   "metadata": {},
   "outputs": [],
   "source": [
    "aggregated_fires_union = union(aggregated_fires_sdf[aggregated_fires_sdf['count'] > 20].SHAPE.tolist())\n",
    "spatial_filter = intersects(aggregated_fires_union[0])"
   ]
  },
  {
   "cell_type": "code",
   "execution_count": 31,
   "id": "8a33cc0c",
   "metadata": {},
   "outputs": [
    {
     "data": {
      "text/html": [
       "<div>\n",
       "<style scoped>\n",
       "    .dataframe tbody tr th:only-of-type {\n",
       "        vertical-align: middle;\n",
       "    }\n",
       "\n",
       "    .dataframe tbody tr th {\n",
       "        vertical-align: top;\n",
       "    }\n",
       "\n",
       "    .dataframe thead th {\n",
       "        text-align: right;\n",
       "    }\n",
       "</style>\n",
       "<table border=\"1\" class=\"dataframe\">\n",
       "  <thead>\n",
       "    <tr style=\"text-align: right;\">\n",
       "      <th></th>\n",
       "      <th>OBJECTID</th>\n",
       "      <th>BRIGHTNESS</th>\n",
       "      <th>SCAN</th>\n",
       "      <th>TRACK</th>\n",
       "      <th>SATELLITE</th>\n",
       "      <th>CONFIDENCE</th>\n",
       "      <th>VERSION</th>\n",
       "      <th>BRIGHT_T31</th>\n",
       "      <th>FRP</th>\n",
       "      <th>ACQ_DATE</th>\n",
       "      <th>DAYNIGHT</th>\n",
       "      <th>HOURS_OLD</th>\n",
       "      <th>DAY_OF_ACQ</th>\n",
       "      <th>SHAPE</th>\n",
       "    </tr>\n",
       "  </thead>\n",
       "  <tbody>\n",
       "    <tr>\n",
       "      <th>0</th>\n",
       "      <td>48125</td>\n",
       "      <td>363.83</td>\n",
       "      <td>3.53</td>\n",
       "      <td>1.77</td>\n",
       "      <td>A</td>\n",
       "      <td>94</td>\n",
       "      <td>6.1NRT</td>\n",
       "      <td>294.16</td>\n",
       "      <td>608.38</td>\n",
       "      <td>2025-01-07 22:39:00</td>\n",
       "      <td>D</td>\n",
       "      <td>95</td>\n",
       "      <td>4</td>\n",
       "      <td>{\"x\": -13199346.8324, \"y\": 4033732.3479999974,...</td>\n",
       "    </tr>\n",
       "    <tr>\n",
       "      <th>1</th>\n",
       "      <td>48126</td>\n",
       "      <td>325.93</td>\n",
       "      <td>3.57</td>\n",
       "      <td>1.77</td>\n",
       "      <td>A</td>\n",
       "      <td>75</td>\n",
       "      <td>6.1NRT</td>\n",
       "      <td>291.73</td>\n",
       "      <td>136.96</td>\n",
       "      <td>2025-01-07 22:39:00</td>\n",
       "      <td>D</td>\n",
       "      <td>95</td>\n",
       "      <td>4</td>\n",
       "      <td>{\"x\": -13191393.0548, \"y\": 4036459.647500001, ...</td>\n",
       "    </tr>\n",
       "    <tr>\n",
       "      <th>2</th>\n",
       "      <td>48127</td>\n",
       "      <td>425.19</td>\n",
       "      <td>3.55</td>\n",
       "      <td>1.77</td>\n",
       "      <td>A</td>\n",
       "      <td>87</td>\n",
       "      <td>6.1NRT</td>\n",
       "      <td>302.8</td>\n",
       "      <td>2749.04</td>\n",
       "      <td>2025-01-07 22:39:00</td>\n",
       "      <td>D</td>\n",
       "      <td>95</td>\n",
       "      <td>4</td>\n",
       "      <td>{\"x\": -13195638.7802, \"y\": 4036131.7995999977,...</td>\n",
       "    </tr>\n",
       "    <tr>\n",
       "      <th>3</th>\n",
       "      <td>48128</td>\n",
       "      <td>440.34</td>\n",
       "      <td>3.53</td>\n",
       "      <td>1.77</td>\n",
       "      <td>A</td>\n",
       "      <td>75</td>\n",
       "      <td>6.1NRT</td>\n",
       "      <td>310.73</td>\n",
       "      <td>3688.14</td>\n",
       "      <td>2025-01-07 22:39:00</td>\n",
       "      <td>D</td>\n",
       "      <td>95</td>\n",
       "      <td>4</td>\n",
       "      <td>{\"x\": -13199877.8265, \"y\": 4035801.2739999965,...</td>\n",
       "    </tr>\n",
       "    <tr>\n",
       "      <th>4</th>\n",
       "      <td>48129</td>\n",
       "      <td>310.43</td>\n",
       "      <td>3.51</td>\n",
       "      <td>1.76</td>\n",
       "      <td>A</td>\n",
       "      <td>0</td>\n",
       "      <td>6.1NRT</td>\n",
       "      <td>293.04</td>\n",
       "      <td>46.99</td>\n",
       "      <td>2025-01-07 22:39:00</td>\n",
       "      <td>D</td>\n",
       "      <td>95</td>\n",
       "      <td>4</td>\n",
       "      <td>{\"x\": -13204217.0602, \"y\": 4035461.3532000035,...</td>\n",
       "    </tr>\n",
       "    <tr>\n",
       "      <th>...</th>\n",
       "      <td>...</td>\n",
       "      <td>...</td>\n",
       "      <td>...</td>\n",
       "      <td>...</td>\n",
       "      <td>...</td>\n",
       "      <td>...</td>\n",
       "      <td>...</td>\n",
       "      <td>...</td>\n",
       "      <td>...</td>\n",
       "      <td>...</td>\n",
       "      <td>...</td>\n",
       "      <td>...</td>\n",
       "      <td>...</td>\n",
       "      <td>...</td>\n",
       "    </tr>\n",
       "    <tr>\n",
       "      <th>423</th>\n",
       "      <td>100493</td>\n",
       "      <td>362.77</td>\n",
       "      <td>4.08</td>\n",
       "      <td>1.87</td>\n",
       "      <td>T</td>\n",
       "      <td>100</td>\n",
       "      <td>6.1NRT</td>\n",
       "      <td>293.86</td>\n",
       "      <td>711.13</td>\n",
       "      <td>2025-01-11 17:04:00</td>\n",
       "      <td>D</td>\n",
       "      <td>4</td>\n",
       "      <td>0</td>\n",
       "      <td>{\"x\": -13191456.507, \"y\": 4045926.9679000005, ...</td>\n",
       "    </tr>\n",
       "    <tr>\n",
       "      <th>424</th>\n",
       "      <td>100494</td>\n",
       "      <td>374.92</td>\n",
       "      <td>4.08</td>\n",
       "      <td>1.87</td>\n",
       "      <td>T</td>\n",
       "      <td>100</td>\n",
       "      <td>6.1NRT</td>\n",
       "      <td>296.78</td>\n",
       "      <td>1018.28</td>\n",
       "      <td>2025-01-11 17:04:00</td>\n",
       "      <td>D</td>\n",
       "      <td>4</td>\n",
       "      <td>0</td>\n",
       "      <td>{\"x\": -13191664.6744, \"y\": 4043698.8915000036,...</td>\n",
       "    </tr>\n",
       "    <tr>\n",
       "      <th>425</th>\n",
       "      <td>100495</td>\n",
       "      <td>327.68</td>\n",
       "      <td>4.11</td>\n",
       "      <td>1.88</td>\n",
       "      <td>T</td>\n",
       "      <td>84</td>\n",
       "      <td>6.1NRT</td>\n",
       "      <td>290.47</td>\n",
       "      <td>184.11</td>\n",
       "      <td>2025-01-11 17:04:00</td>\n",
       "      <td>D</td>\n",
       "      <td>4</td>\n",
       "      <td>0</td>\n",
       "      <td>{\"x\": -13196459.2048, \"y\": 4041760.2688999996,...</td>\n",
       "    </tr>\n",
       "    <tr>\n",
       "      <th>426</th>\n",
       "      <td>100496</td>\n",
       "      <td>410.03</td>\n",
       "      <td>4.08</td>\n",
       "      <td>1.87</td>\n",
       "      <td>T</td>\n",
       "      <td>100</td>\n",
       "      <td>6.1NRT</td>\n",
       "      <td>299.7</td>\n",
       "      <td>2423.56</td>\n",
       "      <td>2025-01-11 17:04:00</td>\n",
       "      <td>D</td>\n",
       "      <td>4</td>\n",
       "      <td>0</td>\n",
       "      <td>{\"x\": -13191882.8606, \"y\": 4041471.251500003, ...</td>\n",
       "    </tr>\n",
       "    <tr>\n",
       "      <th>427</th>\n",
       "      <td>100497</td>\n",
       "      <td>311.42</td>\n",
       "      <td>4.11</td>\n",
       "      <td>1.88</td>\n",
       "      <td>T</td>\n",
       "      <td>37</td>\n",
       "      <td>6.1NRT</td>\n",
       "      <td>287.53</td>\n",
       "      <td>65.49</td>\n",
       "      <td>2025-01-11 17:04:00</td>\n",
       "      <td>D</td>\n",
       "      <td>4</td>\n",
       "      <td>0</td>\n",
       "      <td>{\"x\": -13196708.560600001, \"y\": 4039530.320299...</td>\n",
       "    </tr>\n",
       "  </tbody>\n",
       "</table>\n",
       "<p>428 rows × 14 columns</p>\n",
       "</div>"
      ],
      "text/plain": [
       "     OBJECTID  BRIGHTNESS  SCAN  TRACK SATELLITE  CONFIDENCE VERSION  \\\n",
       "0       48125      363.83  3.53   1.77         A          94  6.1NRT   \n",
       "1       48126      325.93  3.57   1.77         A          75  6.1NRT   \n",
       "2       48127      425.19  3.55   1.77         A          87  6.1NRT   \n",
       "3       48128      440.34  3.53   1.77         A          75  6.1NRT   \n",
       "4       48129      310.43  3.51   1.76         A           0  6.1NRT   \n",
       "..        ...         ...   ...    ...       ...         ...     ...   \n",
       "423    100493      362.77  4.08   1.87         T         100  6.1NRT   \n",
       "424    100494      374.92  4.08   1.87         T         100  6.1NRT   \n",
       "425    100495      327.68  4.11   1.88         T          84  6.1NRT   \n",
       "426    100496      410.03  4.08   1.87         T         100  6.1NRT   \n",
       "427    100497      311.42  4.11   1.88         T          37  6.1NRT   \n",
       "\n",
       "     BRIGHT_T31      FRP            ACQ_DATE DAYNIGHT  HOURS_OLD  DAY_OF_ACQ  \\\n",
       "0        294.16   608.38 2025-01-07 22:39:00        D         95           4   \n",
       "1        291.73   136.96 2025-01-07 22:39:00        D         95           4   \n",
       "2         302.8  2749.04 2025-01-07 22:39:00        D         95           4   \n",
       "3        310.73  3688.14 2025-01-07 22:39:00        D         95           4   \n",
       "4        293.04    46.99 2025-01-07 22:39:00        D         95           4   \n",
       "..          ...      ...                 ...      ...        ...         ...   \n",
       "423      293.86   711.13 2025-01-11 17:04:00        D          4           0   \n",
       "424      296.78  1018.28 2025-01-11 17:04:00        D          4           0   \n",
       "425      290.47   184.11 2025-01-11 17:04:00        D          4           0   \n",
       "426       299.7  2423.56 2025-01-11 17:04:00        D          4           0   \n",
       "427      287.53    65.49 2025-01-11 17:04:00        D          4           0   \n",
       "\n",
       "                                                 SHAPE  \n",
       "0    {\"x\": -13199346.8324, \"y\": 4033732.3479999974,...  \n",
       "1    {\"x\": -13191393.0548, \"y\": 4036459.647500001, ...  \n",
       "2    {\"x\": -13195638.7802, \"y\": 4036131.7995999977,...  \n",
       "3    {\"x\": -13199877.8265, \"y\": 4035801.2739999965,...  \n",
       "4    {\"x\": -13204217.0602, \"y\": 4035461.3532000035,...  \n",
       "..                                                 ...  \n",
       "423  {\"x\": -13191456.507, \"y\": 4045926.9679000005, ...  \n",
       "424  {\"x\": -13191664.6744, \"y\": 4043698.8915000036,...  \n",
       "425  {\"x\": -13196459.2048, \"y\": 4041760.2688999996,...  \n",
       "426  {\"x\": -13191882.8606, \"y\": 4041471.251500003, ...  \n",
       "427  {\"x\": -13196708.560600001, \"y\": 4039530.320299...  \n",
       "\n",
       "[428 rows x 14 columns]"
      ]
     },
     "execution_count": 31,
     "metadata": {},
     "output_type": "execute_result"
    }
   ],
   "source": [
    "thermal_layer = thermal_item.layers[0]\n",
    "thermal_events_sdf = thermal_layer.query(geometry_filter=spatial_filter, as_df=True)\n",
    "thermal_events_sdf"
   ]
  },
  {
   "cell_type": "code",
   "execution_count": 33,
   "id": "c020def0",
   "metadata": {},
   "outputs": [
    {
     "data": {
      "application/vnd.jupyter.widget-view+json": {
       "model_id": "c193a3c7940a4b0e9aca2d31472c3fa4",
       "version_major": 2,
       "version_minor": 0
      },
      "text/plain": [
       "MapView(jupyter_target='notebook', layout=Layout(height='400px', width='100%'), ready=True)"
      ]
     },
     "metadata": {},
     "output_type": "display_data"
    },
    {
     "data": {
      "text/html": [
       "<div class=\"map-static-img-preview-8f1f68c3-d687-481e-9c28-aaa28fdc4bcf\"><img src=\"\"></img></div>"
      ],
      "text/plain": [
       "<IPython.core.display.HTML object>"
      ]
     },
     "metadata": {},
     "output_type": "display_data"
    },
    {
     "data": {
      "text/html": [
       "<div class=\"map-html-embed-preview-8f1f68c3-d687-481e-9c28-aaa28fdc4bcf\"></div>"
      ],
      "text/plain": [
       "<IPython.core.display.HTML object>"
      ]
     },
     "metadata": {},
     "output_type": "display_data"
    }
   ],
   "source": [
    "thermal_events_sdf.spatial.plot(map_view)\n",
    "map_view"
   ]
  },
  {
   "cell_type": "code",
   "execution_count": null,
   "id": "4565f8db",
   "metadata": {},
   "outputs": [],
   "source": []
  }
 ],
 "metadata": {
  "kernelspec": {
   "display_name": "Python 3 (ipykernel)",
   "language": "python",
   "name": "python3"
  },
  "language_info": {
   "codemirror_mode": {
    "name": "ipython",
    "version": 3
   },
   "file_extension": ".py",
   "mimetype": "text/x-python",
   "name": "python",
   "nbconvert_exporter": "python",
   "pygments_lexer": "ipython3",
   "version": "3.11.9"
  }
 },
 "nbformat": 4,
 "nbformat_minor": 5
}
