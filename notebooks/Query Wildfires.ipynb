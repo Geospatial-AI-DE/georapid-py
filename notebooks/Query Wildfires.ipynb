{
 "cells": [
  {
   "cell_type": "code",
   "execution_count": 3,
   "id": "d578e4c3",
   "metadata": {},
   "outputs": [],
   "source": [
    "# author: Jan Tschada\n",
    "# SPDX-License-Identifer: Apache-2.0"
   ]
  },
  {
   "cell_type": "code",
   "execution_count": 23,
   "id": "390dc3e7",
   "metadata": {},
   "outputs": [],
   "source": [
    "from arcgis.gis import GIS\n",
    "from arcgis.features import FeatureSet\n",
    "from arcgis.mapping import generate_classbreaks\n",
    "from datetime import datetime\n",
    "from georapid.client import GeoRapidClient\n",
    "from georapid.factory import EnvironmentClientFactory\n",
    "from georapid.fires import aggregate\n",
    "from georapid.formats import OutFormat"
   ]
  },
  {
   "cell_type": "markdown",
   "id": "6e6e0627",
   "metadata": {},
   "source": [
    "## Creating a client\n",
    "\n",
    "**NOTE**\n",
    "\n",
    "Ensure that `os.environ['x_rapidapi_key']` holds your Rapid API Key!\n"
   ]
  },
  {
   "cell_type": "code",
   "execution_count": 15,
   "id": "3440012e",
   "metadata": {},
   "outputs": [],
   "source": [
    "host = 'geofires.p.rapidapi.com'\n",
    "client: GeoRapidClient = EnvironmentClientFactory.create_client_with_host(host)"
   ]
  },
  {
   "cell_type": "code",
   "execution_count": 16,
   "id": "8b7bffca",
   "metadata": {},
   "outputs": [
    {
     "data": {
      "text/html": [
       "<div>\n",
       "<style scoped>\n",
       "    .dataframe tbody tr th:only-of-type {\n",
       "        vertical-align: middle;\n",
       "    }\n",
       "\n",
       "    .dataframe tbody tr th {\n",
       "        vertical-align: top;\n",
       "    }\n",
       "\n",
       "    .dataframe thead th {\n",
       "        text-align: right;\n",
       "    }\n",
       "</style>\n",
       "<table border=\"1\" class=\"dataframe\">\n",
       "  <thead>\n",
       "    <tr style=\"text-align: right;\">\n",
       "      <th></th>\n",
       "      <th>index</th>\n",
       "      <th>count</th>\n",
       "      <th>OBJECTID</th>\n",
       "      <th>SHAPE</th>\n",
       "    </tr>\n",
       "  </thead>\n",
       "  <tbody>\n",
       "    <tr>\n",
       "      <th>0</th>\n",
       "      <td>0</td>\n",
       "      <td>79</td>\n",
       "      <td>1</td>\n",
       "      <td>{\"rings\": [[[-13758824.165362816, 4537508.3427...</td>\n",
       "    </tr>\n",
       "    <tr>\n",
       "      <th>1</th>\n",
       "      <td>2</td>\n",
       "      <td>16</td>\n",
       "      <td>2</td>\n",
       "      <td>{\"rings\": [[[-8562671.742656182, 4787508.34279...</td>\n",
       "    </tr>\n",
       "    <tr>\n",
       "      <th>2</th>\n",
       "      <td>3</td>\n",
       "      <td>12</td>\n",
       "      <td>3</td>\n",
       "      <td>{\"rings\": [[[-9861709.848332841, 3537508.34279...</td>\n",
       "    </tr>\n",
       "    <tr>\n",
       "      <th>3</th>\n",
       "      <td>4</td>\n",
       "      <td>23</td>\n",
       "      <td>4</td>\n",
       "      <td>{\"rings\": [[[-13758824.165362816, 5787508.3427...</td>\n",
       "    </tr>\n",
       "    <tr>\n",
       "      <th>4</th>\n",
       "      <td>5</td>\n",
       "      <td>41</td>\n",
       "      <td>5</td>\n",
       "      <td>{\"rings\": [[[16552064.967092551, -4212491.6572...</td>\n",
       "    </tr>\n",
       "    <tr>\n",
       "      <th>...</th>\n",
       "      <td>...</td>\n",
       "      <td>...</td>\n",
       "      <td>...</td>\n",
       "      <td>...</td>\n",
       "    </tr>\n",
       "    <tr>\n",
       "      <th>302</th>\n",
       "      <td>2605</td>\n",
       "      <td>1</td>\n",
       "      <td>303</td>\n",
       "      <td>{\"rings\": [[[-10511228.90117117, 5412508.34279...</td>\n",
       "    </tr>\n",
       "    <tr>\n",
       "      <th>303</th>\n",
       "      <td>2606</td>\n",
       "      <td>2</td>\n",
       "      <td>304</td>\n",
       "      <td>{\"rings\": [[[-8129659.040763963, -3962491.6572...</td>\n",
       "    </tr>\n",
       "    <tr>\n",
       "      <th>304</th>\n",
       "      <td>2608</td>\n",
       "      <td>3</td>\n",
       "      <td>305</td>\n",
       "      <td>{\"rings\": [[[-12459786.059686158, 7787508.3427...</td>\n",
       "    </tr>\n",
       "    <tr>\n",
       "      <th>305</th>\n",
       "      <td>2611</td>\n",
       "      <td>2</td>\n",
       "      <td>306</td>\n",
       "      <td>{\"rings\": [[[-14408343.218201146, 9912508.3427...</td>\n",
       "    </tr>\n",
       "    <tr>\n",
       "      <th>306</th>\n",
       "      <td>2715</td>\n",
       "      <td>3</td>\n",
       "      <td>307</td>\n",
       "      <td>{\"rings\": [[[-11160747.9540095, 3537508.342799...</td>\n",
       "    </tr>\n",
       "  </tbody>\n",
       "</table>\n",
       "<p>307 rows × 4 columns</p>\n",
       "</div>"
      ],
      "text/plain": [
       "     index  count  OBJECTID                                              SHAPE\n",
       "0        0     79         1  {\"rings\": [[[-13758824.165362816, 4537508.3427...\n",
       "1        2     16         2  {\"rings\": [[[-8562671.742656182, 4787508.34279...\n",
       "2        3     12         3  {\"rings\": [[[-9861709.848332841, 3537508.34279...\n",
       "3        4     23         4  {\"rings\": [[[-13758824.165362816, 5787508.3427...\n",
       "4        5     41         5  {\"rings\": [[[16552064.967092551, -4212491.6572...\n",
       "..     ...    ...       ...                                                ...\n",
       "302   2605      1       303  {\"rings\": [[[-10511228.90117117, 5412508.34279...\n",
       "303   2606      2       304  {\"rings\": [[[-8129659.040763963, -3962491.6572...\n",
       "304   2608      3       305  {\"rings\": [[[-12459786.059686158, 7787508.3427...\n",
       "305   2611      2       306  {\"rings\": [[[-14408343.218201146, 9912508.3427...\n",
       "306   2715      3       307  {\"rings\": [[[-11160747.9540095, 3537508.342799...\n",
       "\n",
       "[307 rows x 4 columns]"
      ]
     },
     "execution_count": 16,
     "metadata": {},
     "output_type": "execute_result"
    }
   ],
   "source": [
    "date_of_interest = datetime(2023, 8, 15)\n",
    "aggregated_fires_dict = aggregate(client, date_of_interest, OutFormat.ESRI)\n",
    "aggregated_fires_fset = FeatureSet.from_dict(aggregated_fires_dict)\n",
    "aggregated_fires_sdf = aggregated_fires_fset.sdf\n",
    "aggregated_fires_sdf"
   ]
  },
  {
   "cell_type": "markdown",
   "id": "63431aa4",
   "metadata": {},
   "source": [
    "## Map news related to wildfires in California"
   ]
  },
  {
   "cell_type": "code",
   "execution_count": 22,
   "id": "3e1aa3c9",
   "metadata": {},
   "outputs": [],
   "source": [
    "def generate_aggregated_renderer(spatial_df, column='count'):\n",
    "    alpha = 0.35\n",
    "    class_breaks_renderer = generate_classbreaks(spatial_df, geometry_type='Polygon', field=column, method='esriClassifyNaturalBreaks', class_count=5, colors='YlOrRd', alpha=0.35)\n",
    "    class_breaks_renderer['defaultSymbol']['color'][3] = int(alpha * 255)\n",
    "    for class_break_info in class_breaks_renderer['classBreakInfos']:\n",
    "        class_break_info['symbol']['color'][3] = int(alpha * 255)\n",
    "    return class_breaks_renderer\n",
    "\n",
    "def plot_aggregated(map_view, spatial_df, column='count'):\n",
    "    \"\"\"\n",
    "    Plots the spatial dataframe as classified polygons using the specified map view.\n",
    "    \"\"\"\n",
    "    if spatial_df.empty:\n",
    "        print(\"The dataframe is empty!\")\n",
    "    else:\n",
    "        class_breaks_renderer = generate_aggregated_renderer(spatial_df)\n",
    "        drawing_info = {\n",
    "            'renderer': class_breaks_renderer\n",
    "        }\n",
    "        feature_collection = spatial_df.spatial.to_feature_collection(drawing_info=drawing_info)\n",
    "        map_view.add_layer(feature_collection)"
   ]
  },
  {
   "cell_type": "code",
   "execution_count": 19,
   "id": "2926d8d3",
   "metadata": {},
   "outputs": [],
   "source": [
    "gis = GIS()"
   ]
  },
  {
   "cell_type": "code",
   "execution_count": 20,
   "id": "20fbcf13",
   "metadata": {},
   "outputs": [
    {
     "data": {
      "application/vnd.jupyter.widget-view+json": {
       "model_id": "9f6898bec4c847f78ed915c7051ab50b",
       "version_major": 2,
       "version_minor": 0
      },
      "text/plain": [
       "MapView(layout=Layout(height='400px', width='100%'))"
      ]
     },
     "metadata": {},
     "output_type": "display_data"
    },
    {
     "data": {
      "text/html": [
       "<div class=\"map-static-img-preview-e072bb30-fb15-42fb-98c7-59059d99eacf\"><img src=\"\"></img></div>"
      ],
      "text/plain": [
       "<IPython.core.display.HTML object>"
      ]
     },
     "metadata": {},
     "output_type": "display_data"
    },
    {
     "data": {
      "text/html": [
       "<div class=\"map-html-embed-preview-e072bb30-fb15-42fb-98c7-59059d99eacf\"></div>"
      ],
      "text/plain": [
       "<IPython.core.display.HTML object>"
      ]
     },
     "metadata": {},
     "output_type": "display_data"
    }
   ],
   "source": [
    "map_view = gis.map('California, USA')\n",
    "map_view.basemap = 'osm'\n",
    "map_view"
   ]
  },
  {
   "cell_type": "code",
   "execution_count": 24,
   "id": "1ba911b4",
   "metadata": {},
   "outputs": [
    {
     "data": {
      "application/vnd.jupyter.widget-view+json": {
       "model_id": "9f6898bec4c847f78ed915c7051ab50b",
       "version_major": 2,
       "version_minor": 0
      },
      "text/plain": [
       "MapView(jupyter_target='notebook', layout=Layout(height='400px', width='100%'), ready=True)"
      ]
     },
     "metadata": {},
     "output_type": "display_data"
    },
    {
     "data": {
      "text/html": [
       "<div class=\"map-static-img-preview-e072bb30-fb15-42fb-98c7-59059d99eacf\"><img src=\"\"></img></div>"
      ],
      "text/plain": [
       "<IPython.core.display.HTML object>"
      ]
     },
     "metadata": {},
     "output_type": "display_data"
    },
    {
     "data": {
      "text/html": [
       "<div class=\"map-html-embed-preview-e072bb30-fb15-42fb-98c7-59059d99eacf\"></div>"
      ],
      "text/plain": [
       "<IPython.core.display.HTML object>"
      ]
     },
     "metadata": {},
     "output_type": "display_data"
    }
   ],
   "source": [
    "plot_aggregated(map_view, aggregated_fires_sdf)\n",
    "map_view"
   ]
  },
  {
   "cell_type": "code",
   "execution_count": null,
   "id": "e904d30a",
   "metadata": {},
   "outputs": [],
   "source": []
  }
 ],
 "metadata": {
  "kernelspec": {
   "display_name": "Python 3 (ipykernel)",
   "language": "python",
   "name": "python3"
  },
  "language_info": {
   "codemirror_mode": {
    "name": "ipython",
    "version": 3
   },
   "file_extension": ".py",
   "mimetype": "text/x-python",
   "name": "python",
   "nbconvert_exporter": "python",
   "pygments_lexer": "ipython3",
   "version": "3.11.9"
  }
 },
 "nbformat": 4,
 "nbformat_minor": 5
}
